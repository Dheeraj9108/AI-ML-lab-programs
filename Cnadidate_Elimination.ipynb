{
 "cells": [
  {
   "cell_type": "code",
   "execution_count": 10,
   "id": "918b4c9a",
   "metadata": {},
   "outputs": [
    {
     "name": "stdout",
     "output_type": "stream",
     "text": [
      "['sunny', 'warm', '?', 'strong', '?', '?']\n",
      "[['sunny', '?', '?', '?', '?', '?'], ['?', 'warm', '?', '?', '?', '?']]\n"
     ]
    }
   ],
   "source": [
    "import csv \n",
    "\n",
    "with open('data.csv') as f:\n",
    "    file = csv.reader(f)\n",
    "    data = list(file)\n",
    "    \n",
    "    \n",
    "    specific = data[0][:-1]\n",
    "    general = [['?' for i in range(len(specific))] for j in range(len(specific))]\n",
    "    \n",
    "    for i in data :\n",
    "        if i[-1] == 'yes' :\n",
    "            for j in range(len(specific)) :\n",
    "                if i[j] != specific[j] :\n",
    "                    specific[j] = '?'\n",
    "                    general[j][j] = '?'\n",
    "        elif i[-1] == 'no' :\n",
    "            for j in range(len(specific)) :\n",
    "                if i[j] != specific[j] :\n",
    "                    general[j][j] = specific[j]\n",
    "                else :\n",
    "                    general[j][j] = '?'\n",
    "    \n",
    "    gh =[]\n",
    "    \n",
    "    for i in general :\n",
    "        for j in i :\n",
    "            if j != '?' :\n",
    "                gh.append(i)\n",
    "                break\n",
    "    \n",
    "    print(specific)\n",
    "    print(gh)"
   ]
  }
 ],
 "metadata": {
  "kernelspec": {
   "display_name": "Python 3 (ipykernel)",
   "language": "python",
   "name": "python3"
  },
  "language_info": {
   "codemirror_mode": {
    "name": "ipython",
    "version": 3
   },
   "file_extension": ".py",
   "mimetype": "text/x-python",
   "name": "python",
   "nbconvert_exporter": "python",
   "pygments_lexer": "ipython3",
   "version": "3.9.12"
  }
 },
 "nbformat": 4,
 "nbformat_minor": 5
}
