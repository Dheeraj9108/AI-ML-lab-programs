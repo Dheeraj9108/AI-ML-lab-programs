{
 "cells": [
  {
   "cell_type": "code",
   "execution_count": 3,
   "id": "11e5c7d5",
   "metadata": {},
   "outputs": [
    {
     "name": "stdout",
     "output_type": "stream",
     "text": [
      "{'outlook': {'overcast': 'yes',\n",
      "             'rain': {'wind': {'strong': 'no', 'weak': 'yes'}},\n",
      "             'sunny': {'hum': {'high': 'no', 'normal': 'yes'}}}}\n"
     ]
    }
   ],
   "source": [
    "import pandas as pd\n",
    "import numpy as np \n",
    "eps = np.finfo(float).eps\n",
    "from numpy import log2 as log\n",
    "\n",
    "def find_ent(df) :\n",
    "    Class = df.keys()[-1]\n",
    "    values = df[Class].unique()\n",
    "    ent = 0\n",
    "    for val in values :\n",
    "        fraction = df[Class].value_counts()[val]/len(df)\n",
    "        ent+=-fraction*log(fraction)\n",
    "        \n",
    "    return ent\n",
    "\n",
    "def find_ent_att(df,att) :\n",
    "    Class = df.keys()[-1]\n",
    "    variables = df[att].unique()\n",
    "    tar_vars = df[Class].unique()\n",
    "    ent2 =0\n",
    "    for var in variables :\n",
    "        ent =0\n",
    "        for tar_var in tar_vars :\n",
    "            num = len(df[att][df[att] == var][df[Class] == tar_var])\n",
    "            den = len(df[att][df[att] == var])\n",
    "            fraction1 = num/(den+eps)\n",
    "            ent += -fraction1*log(fraction1+eps)\n",
    "        fraction2 = den/len(df)\n",
    "        ent2 +=-fraction2*ent\n",
    "    return abs(ent2)\n",
    "\n",
    "def getSuitable(df,node,val):\n",
    "    return df[df[node] == val].reset_index(drop = True)\n",
    "\n",
    "def find_winner(df) :\n",
    "    ig = []\n",
    "    for key in df.keys()[:-1] :\n",
    "        ig.append(find_ent(df)-find_ent_att(df,key))\n",
    "    \n",
    "    return df.keys()[:-1][np.argmax(ig)]\n",
    "\n",
    "def build_tree(df,tree=None):\n",
    "    node = find_winner(df)\n",
    "    values = df[node].unique()\n",
    "    if tree ==  None :\n",
    "        tree = {}\n",
    "        tree[node] = {}\n",
    "        \n",
    "    for val in values :\n",
    "        suitable = getSuitable(df,node,val)\n",
    "        cValue,cnt = np.unique(suitable['play'],return_counts = True)\n",
    "        if len(cnt) == 1 :\n",
    "            tree[node][val] = cValue[0]\n",
    "        else :\n",
    "            tree[node][val] = build_tree(suitable)\n",
    "            \n",
    "    return tree\n",
    "\n",
    "dataset = pd.read_csv('tennis.csv')\n",
    "tree = build_tree(dataset)\n",
    "import pprint\n",
    "pprint.pprint(tree)"
   ]
  }
 ],
 "metadata": {
  "kernelspec": {
   "display_name": "Python 3 (ipykernel)",
   "language": "python",
   "name": "python3"
  },
  "language_info": {
   "codemirror_mode": {
    "name": "ipython",
    "version": 3
   },
   "file_extension": ".py",
   "mimetype": "text/x-python",
   "name": "python",
   "nbconvert_exporter": "python",
   "pygments_lexer": "ipython3",
   "version": "3.9.12"
  }
 },
 "nbformat": 4,
 "nbformat_minor": 5
}
