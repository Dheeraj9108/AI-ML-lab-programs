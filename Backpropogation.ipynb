{
 "cells": [
  {
   "cell_type": "code",
   "execution_count": 7,
   "id": "75fbc0ab",
   "metadata": {},
   "outputs": [
    {
     "name": "stdout",
     "output_type": "stream",
     "text": [
      "[[0.66666667 1.        ]\n",
      " [0.33333333 0.55555556]\n",
      " [1.         0.66666667]]\n",
      "[[0.92]\n",
      " [0.89]\n",
      " [0.86]]\n",
      "[[0.89460181]\n",
      " [0.88047445]\n",
      " [0.89499331]]\n"
     ]
    }
   ],
   "source": [
    "import numpy as np\n",
    "\n",
    "x = np.array(([2,9],[1,5],[3,6]),dtype=float)\n",
    "y = np.array(([92],[89],[86]),dtype=float)\n",
    "x = x/np.amax(x,axis=0)\n",
    "y = y/100\n",
    "\n",
    "epoch = 5000\n",
    "lr = 0.1\n",
    "iln = 2\n",
    "hln = 3\n",
    "oln = 1\n",
    "\n",
    "wh = np.random.uniform(size=(iln,hln))\n",
    "bh = np.random.uniform(size=(1,hln))\n",
    "wout = np.random.uniform(size=(hln,oln))\n",
    "bout = np.random.uniform(size=(1,oln))\n",
    "\n",
    "def sig(x) :\n",
    "    return 1/(1+np.exp(-x))\n",
    "\n",
    "def dev_sig(x) :\n",
    "    return x*(1-x)\n",
    "\n",
    "for i in range(epoch) :\n",
    "    hinp = np.dot(x,wh)+bh\n",
    "    hlayer_act = sig(hinp)\n",
    "    outinp = np.dot(hlayer_act,wout)+bout\n",
    "    output = sig(outinp)\n",
    "    \n",
    "    outgrad = dev_sig(output)\n",
    "    hidgrad = dev_sig(hlayer_act)\n",
    "    \n",
    "    e0 = y-output\n",
    "    d_output = e0*outgrad\n",
    "    \n",
    "    eh = d_output.dot(wout.T)\n",
    "    d_hid = eh*hidgrad\n",
    "    \n",
    "    wout+=hlayer_act.T.dot(d_output)*lr\n",
    "    wh+=x.T.dot(d_hid)*lr\n",
    "\n",
    "print(x)\n",
    "print(y)\n",
    "print(output)"
   ]
  }
 ],
 "metadata": {
  "kernelspec": {
   "display_name": "Python 3 (ipykernel)",
   "language": "python",
   "name": "python3"
  },
  "language_info": {
   "codemirror_mode": {
    "name": "ipython",
    "version": 3
   },
   "file_extension": ".py",
   "mimetype": "text/x-python",
   "name": "python",
   "nbconvert_exporter": "python",
   "pygments_lexer": "ipython3",
   "version": "3.9.12"
  }
 },
 "nbformat": 4,
 "nbformat_minor": 5
}
