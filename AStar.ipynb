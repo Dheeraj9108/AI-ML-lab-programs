{
 "cells": [
  {
   "cell_type": "code",
   "execution_count": 6,
   "id": "375ef1c1",
   "metadata": {},
   "outputs": [
    {
     "name": "stdout",
     "output_type": "stream",
     "text": [
      "['a', 'e', 'd', 'g']\n"
     ]
    },
    {
     "data": {
      "text/plain": [
       "['a', 'e', 'd', 'g']"
      ]
     },
     "execution_count": 6,
     "metadata": {},
     "output_type": "execute_result"
    }
   ],
   "source": [
    "def aStar(sn,en) :\n",
    "    open_set = set(sn)\n",
    "    closed_set = set()\n",
    "    \n",
    "    g = {}\n",
    "    g[sn] = 0\n",
    "    \n",
    "    parent = {}\n",
    "    parent[sn] = sn\n",
    "    \n",
    "    while len(open_set)>0 :\n",
    "        n = None\n",
    "        for v in open_set :\n",
    "            if n == None or (g[v]+h[v]) < (g[n]+h[n]) :\n",
    "                n = v\n",
    "        \n",
    "        if n == en or g[n] == None :\n",
    "            pass\n",
    "        else :\n",
    "            for m,wgt in graph[n] :\n",
    "                if m not in open_set and m not in closed_set :\n",
    "                    g[m] = g[n]+wgt\n",
    "                    parent[m] = n\n",
    "                    open_set.add(m)\n",
    "                else :\n",
    "                    if g[m] > g[n]+wgt :\n",
    "                        g[m] = g[n] + wgt\n",
    "                        parent[m] = n\n",
    "                    if m in closed_set :\n",
    "                        closed_set.remove(m)\n",
    "                        open_set.add(m)\n",
    "        \n",
    "        if n == None :\n",
    "            print('path dont exit')\n",
    "            return None\n",
    "        \n",
    "        if n == en :\n",
    "            path = []\n",
    "            while parent[n] != n :\n",
    "                path.append(n)\n",
    "                n = parent[n]\n",
    "            path.append(sn)\n",
    "            path.reverse()\n",
    "            print(path)\n",
    "            return path\n",
    "        open_set.remove(n)\n",
    "        closed_set.add(n)\n",
    "    print('path dont exist')\n",
    "    return None\n",
    "    \n",
    "h = {'a':11,'b':6,'c':99,'d':1,'e':7,'g':0}\n",
    "graph = {'a':[('b',2),('e',3)],'b':[('c',1),('g',9)],'c':None,'e':[('d',6)],'d':[('g',1)]}\n",
    "aStar('a','g')"
   ]
  }
 ],
 "metadata": {
  "kernelspec": {
   "display_name": "Python 3 (ipykernel)",
   "language": "python",
   "name": "python3"
  },
  "language_info": {
   "codemirror_mode": {
    "name": "ipython",
    "version": 3
   },
   "file_extension": ".py",
   "mimetype": "text/x-python",
   "name": "python",
   "nbconvert_exporter": "python",
   "pygments_lexer": "ipython3",
   "version": "3.9.12"
  }
 },
 "nbformat": 4,
 "nbformat_minor": 5
}
